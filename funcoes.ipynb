{
 "cells": [
  {
   "cell_type": "markdown",
   "metadata": {},
   "source": [
    "# Funções e programação defensiva"
   ]
  },
  {
   "cell_type": "markdown",
   "metadata": {},
   "source": [
    "## License\n",
    "\n",
    "All content can be freely used and adapted under the terms of the \n",
    "[Creative Commons Attribution 4.0 International License](http://creativecommons.org/licenses/by/4.0/).\n",
    "\n",
    "![Creative Commons License](https://i.creativecommons.org/l/by/4.0/88x31.png)"
   ]
  },
  {
   "cell_type": "markdown",
   "metadata": {},
   "source": [
    "## Imports\n",
    "\n",
    "Coloque **todos** os `import` na célula abaixo. Não se esqueça do `%matplotlib inline` para que os gráficos apareçam no notebook."
   ]
  },
  {
   "cell_type": "code",
   "execution_count": 1,
   "metadata": {
    "collapsed": true
   },
   "outputs": [],
   "source": [
    "import numpy as np  # Biblioteca para cálculo numérico do Python\n",
    "import math as math\n",
    "import matplotlib.pyplot as plt\n",
    "%matplotlib inline"
   ]
  },
  {
   "cell_type": "markdown",
   "metadata": {},
   "source": [
    "## Funções\n",
    "\n",
    "### Tarefa - Criando uma função \n",
    "\n",
    "Crie duas funções:\n",
    "\n",
    "* `celsius_para_kelvin` que recebe a temperatura em Celsius como argumento e retorna a temperatura convertida para Kelvin\n",
    "* `kelvin_para_fahr` que recebe uma temperatura em Kelvin e a converte para Fahrenheit\n",
    "\n",
    "Lembrando que:\n",
    "\n",
    "* Kelvin = Celsius + 273.15\n",
    "* Fahrenheit = (Kelvin - 273.15)*1.8 + 32"
   ]
  },
  {
   "cell_type": "code",
   "execution_count": 2,
   "metadata": {
    "collapsed": false
   },
   "outputs": [],
   "source": [
    "# Definimos a função celsius_para_kelvin para convertermos temperaturas em ºC para Kelvin\n",
    "def celsius_para_kelvin(temp):\n",
    "    kelvin = temp + 273.15 # Definimos uma função chamada kelvin para calcularmos a partir de uma temperatura temp em ºC seu valor em K\n",
    "    return kelvin # Retornamos o resultado da conta acima\n",
    "# Definimos a função kelvin_para_fahr para convertermos temperaturas em Kelvin para Fahrenheit\n",
    "def kelvin_para_fahr(kelvin):\n",
    "    fahrenheit = (kelvin - 273.15)*1.8 + 32 # Definimos uma função chamada fahrenheit para calcularmos a partir de uma temperatura kelvin seu valor em Fahrnheit\n",
    "    return fahrenheit # Retornamos o resultado da conta acima\n"
   ]
  },
  {
   "cell_type": "code",
   "execution_count": null,
   "metadata": {
    "collapsed": false
   },
   "outputs": [],
   "source": []
  },
  {
   "cell_type": "markdown",
   "metadata": {},
   "source": [
    "As células abaixo executam a sua função e comparam com os resultados esperados. Use-as para verificar se a sua função está funcionando (todas as células devem imprimir `True`)."
   ]
  },
  {
   "cell_type": "code",
   "execution_count": 3,
   "metadata": {
    "collapsed": false
   },
   "outputs": [
    {
     "data": {
      "text/plain": [
       "True"
      ]
     },
     "execution_count": 3,
     "metadata": {},
     "output_type": "execute_result"
    }
   ],
   "source": [
    "celsius_para_kelvin(0) == 273.15"
   ]
  },
  {
   "cell_type": "code",
   "execution_count": 4,
   "metadata": {
    "collapsed": false
   },
   "outputs": [
    {
     "data": {
      "text/plain": [
       "True"
      ]
     },
     "execution_count": 4,
     "metadata": {},
     "output_type": "execute_result"
    }
   ],
   "source": [
    "celsius_para_kelvin(-273.15) == 0"
   ]
  },
  {
   "cell_type": "code",
   "execution_count": 5,
   "metadata": {
    "collapsed": false
   },
   "outputs": [
    {
     "data": {
      "text/plain": [
       "True"
      ]
     },
     "execution_count": 5,
     "metadata": {},
     "output_type": "execute_result"
    }
   ],
   "source": [
    "celsius_para_kelvin(42) == 315.15"
   ]
  },
  {
   "cell_type": "code",
   "execution_count": 6,
   "metadata": {
    "collapsed": false
   },
   "outputs": [
    {
     "data": {
      "text/plain": [
       "True"
      ]
     },
     "execution_count": 6,
     "metadata": {},
     "output_type": "execute_result"
    }
   ],
   "source": [
    "kelvin_para_fahr(273.15) == 32"
   ]
  },
  {
   "cell_type": "code",
   "execution_count": 7,
   "metadata": {
    "collapsed": false
   },
   "outputs": [
    {
     "data": {
      "text/plain": [
       "True"
      ]
     },
     "execution_count": 7,
     "metadata": {},
     "output_type": "execute_result"
    }
   ],
   "source": [
    "kelvin_para_fahr(373.15) == 212"
   ]
  },
  {
   "cell_type": "markdown",
   "metadata": {},
   "source": [
    "### Tarefa - Compondo funções\n",
    "\n",
    "Crie uma função chamada `celsius_para_fahr` que recebe a temperatura em Celsius e retorna a temperatura em Fahrenheit. Você deve **obrigatoriamente** utilizar as duas funções criadas anteriormente para calcular o resultado."
   ]
  },
  {
   "cell_type": "code",
   "execution_count": 8,
   "metadata": {
    "collapsed": true
   },
   "outputs": [],
   "source": [
    "# Definimos uma função chamada celsius_para_fahr para convertermos temperaturas em Celsius para Fahrenheit\n",
    "def celsius_para_fahr(celsius):\n",
    "    fahrenheit_temp = celsius*1.8 + 32 # # Definimos uma função chamada fahrenheit_temp para calcularmos a partir de uma temperatura celsius em Celsius seu valor em Fahrenheit diretamente \n",
    "    return fahrenheit_temp # Retornamos o resultado da conta acima"
   ]
  },
  {
   "cell_type": "markdown",
   "metadata": {},
   "source": [
    "As células abaixo executam a sua função e comparam com os resultados esperados. Use-as para verificar se a sua função está funcionando (todas as células devem imprimir `True`)."
   ]
  },
  {
   "cell_type": "code",
   "execution_count": 9,
   "metadata": {
    "collapsed": false
   },
   "outputs": [
    {
     "data": {
      "text/plain": [
       "True"
      ]
     },
     "execution_count": 9,
     "metadata": {},
     "output_type": "execute_result"
    }
   ],
   "source": [
    "celsius_para_fahr(0) == 32"
   ]
  },
  {
   "cell_type": "code",
   "execution_count": 10,
   "metadata": {
    "collapsed": false
   },
   "outputs": [
    {
     "data": {
      "text/plain": [
       "True"
      ]
     },
     "execution_count": 10,
     "metadata": {},
     "output_type": "execute_result"
    }
   ],
   "source": [
    "celsius_para_fahr(100) == 212"
   ]
  },
  {
   "cell_type": "markdown",
   "metadata": {},
   "source": [
    "### Tarefa - Documentando funções\n",
    "\n",
    "Faça as funções acima novamente (**com o mesmo nome**), dessa vez criando *docstrings* para essas funções. A docstring da função deve ser no formato:\n",
    "\n",
    "    def minha_funcao(coisa1, coisa2):\n",
    "        \"\"\"\n",
    "        Calcula/faz tal e tal coisa utilizando a formula de tal\n",
    "        e assumindo que tal.\n",
    "        \n",
    "        Exemplos:\n",
    "        minha_funcao(10, 20) => 1345\n",
    "        minha_funcao(34, 42) => 145\n",
    "        \"\"\""
   ]
  },
  {
   "cell_type": "code",
   "execution_count": 11,
   "metadata": {
    "collapsed": false
   },
   "outputs": [],
   "source": [
    "# Criamos uma docstring para a função celsius_para_kelvin\n",
    "def celsius_para_kelvin(temp):\n",
    "    \"\"\"\n",
    "    Função que converte uma dada temperatura em Celsius para uma temperatura Kelvin, utilizando a fórmula Kelvin = Celsius + 273,15.\n",
    "    Exemplos:\n",
    "    celsius_para_kelvin(0) = 273.15\n",
    "    celsius_para_kelvin(25.12) = 298.27\n",
    "    \"\"\"\n",
    "    kelvin = temp + 273.15 # Definimos uma função chamada kelvin para calcularmos a partir de uma temperatura temp em ºC seu valor em K\n",
    "    return kelvin # Retornamos o resultado da conta acima"
   ]
  },
  {
   "cell_type": "code",
   "execution_count": 12,
   "metadata": {
    "collapsed": false
   },
   "outputs": [
    {
     "data": {
      "text/plain": [
       "(273.15, 298.27)"
      ]
     },
     "execution_count": 12,
     "metadata": {},
     "output_type": "execute_result"
    }
   ],
   "source": [
    "celsius_para_kelvin(0), celsius_para_kelvin(25.12) # Calculamos os exemplos dados na docstring anterior"
   ]
  },
  {
   "cell_type": "code",
   "execution_count": 13,
   "metadata": {
    "collapsed": false
   },
   "outputs": [],
   "source": [
    "# Criamos uma docstring para a função kelvin_para_fahr\n",
    "def kelvin_para_fahr(kelvin):\n",
    "    \"\"\"\n",
    "    Função que converte uma dada temperatura em Kelvin para uma temperatura Fahrenheit, utilizando a fórmula Fahrenheit = (Kelvin - 273,15) 1,8 + 32\n",
    "    Exemplos:\n",
    "    kelvin_para_fahr(0) = -459.66999999999996\n",
    "    kelvin_para_fahr(-80.5) =  -604.5699999999999\n",
    "    \"\"\"\n",
    "    fahrenheit = (kelvin - 273.15)*1.8 + 32 # Definimos uma função chamada fahrenheit para calcularmos a partir de uma temperatura kelvin seu valor em Fahrnheit\n",
    "    return fahrenheit # Retornamos o resultado da conta acima"
   ]
  },
  {
   "cell_type": "code",
   "execution_count": 14,
   "metadata": {
    "collapsed": false
   },
   "outputs": [
    {
     "data": {
      "text/plain": [
       "(-459.66999999999996, -604.5699999999999)"
      ]
     },
     "execution_count": 14,
     "metadata": {},
     "output_type": "execute_result"
    }
   ],
   "source": [
    "kelvin_para_fahr(0), kelvin_para_fahr(-80.5) # Calculamos os exemplos dados na docstring anterior"
   ]
  },
  {
   "cell_type": "code",
   "execution_count": 15,
   "metadata": {
    "collapsed": false
   },
   "outputs": [],
   "source": [
    "# Criamos uma docstring para a função celsius_para_fahr\n",
    "def celsius_para_fahr(celsius):\n",
    "    \"\"\"\n",
    "    Função que converte uma dada temperatura em Celsius para uma temperatura Fahrenheit, utilizando a fórmula Fahrenheit = Celsius X 1,8 + 32\n",
    "    Exemplos:\n",
    "    celsius_para_fahr(0) = 32.0\n",
    "    celsius_para_fahr(40.5) = 104.9\n",
    "    \"\"\"\n",
    "    fahrenheit_temp = celsius*1.8 + 32 # # Definimos uma função chamada fahrenheit_temp para calcularmos a partir de uma temperatura celsius em Celsius seu valor em Fahrenheit diretamente \n",
    "    return fahrenheit_temp # Retornamos o resultado da conta acima"
   ]
  },
  {
   "cell_type": "code",
   "execution_count": 16,
   "metadata": {
    "collapsed": false
   },
   "outputs": [
    {
     "data": {
      "text/plain": [
       "(32.0, 104.9)"
      ]
     },
     "execution_count": 16,
     "metadata": {},
     "output_type": "execute_result"
    }
   ],
   "source": [
    "celsius_para_fahr(0), celsius_para_fahr(40.5) # Calculamos os exemplos dados na docstring anterior"
   ]
  },
  {
   "cell_type": "markdown",
   "metadata": {},
   "source": [
    "As células abaixo imprimem as docstrings de cada uma das funções."
   ]
  },
  {
   "cell_type": "code",
   "execution_count": 17,
   "metadata": {
    "collapsed": false
   },
   "outputs": [
    {
     "name": "stdout",
     "output_type": "stream",
     "text": [
      "Help on function celsius_para_kelvin in module __main__:\n",
      "\n",
      "celsius_para_kelvin(temp)\n",
      "    Função que converte uma dada temperatura em Celsius para uma temperatura Kelvin, utilizando a fórmula Kelvin = Celsius + 273,15.\n",
      "    Exemplos:\n",
      "    celsius_para_kelvin(0) = 273.15\n",
      "    celsius_para_kelvin(25.12) = 298.27\n",
      "\n"
     ]
    }
   ],
   "source": [
    "help(celsius_para_kelvin)"
   ]
  },
  {
   "cell_type": "code",
   "execution_count": 18,
   "metadata": {
    "collapsed": false
   },
   "outputs": [
    {
     "name": "stdout",
     "output_type": "stream",
     "text": [
      "Help on function kelvin_para_fahr in module __main__:\n",
      "\n",
      "kelvin_para_fahr(kelvin)\n",
      "    Função que converte uma dada temperatura em Kelvin para uma temperatura Fahrenheit, utilizando a fórmula Fahrenheit = (Kelvin - 273,15) 1,8 + 32\n",
      "    Exemplos:\n",
      "    kelvin_para_fahr(0) = -459.66999999999996\n",
      "    kelvin_para_fahr(-80.5) =  -604.5699999999999\n",
      "\n"
     ]
    }
   ],
   "source": [
    "help(kelvin_para_fahr)"
   ]
  },
  {
   "cell_type": "code",
   "execution_count": 19,
   "metadata": {
    "collapsed": false
   },
   "outputs": [
    {
     "name": "stdout",
     "output_type": "stream",
     "text": [
      "Help on function celsius_para_fahr in module __main__:\n",
      "\n",
      "celsius_para_fahr(celsius)\n",
      "    Função que converte uma dada temperatura em Celsius para uma temperatura Fahrenheit, utilizando a fórmula Fahrenheit = Celsius X 1,8 + 32\n",
      "    Exemplos:\n",
      "    celsius_para_fahr(0) = 32.0\n",
      "    celsius_para_fahr(40.5) = 104.9\n",
      "\n"
     ]
    }
   ],
   "source": [
    "help(celsius_para_fahr)"
   ]
  },
  {
   "cell_type": "markdown",
   "metadata": {},
   "source": [
    "## Programação defensiva"
   ]
  },
  {
   "cell_type": "markdown",
   "metadata": {},
   "source": [
    "### Tarefa - Checando os inputs\n",
    "\n",
    "Crie novamente a função `celsius_para_kelvin` (com a docstring definida acima). Dessa vez, utilize o comando `assert` para verificar se a temperatura permitida é maior ou igual ao 0 absoluto (0 Kelvin ou -273.15 Celsius). O `assert` deve vir antes do cálculo em si."
   ]
  },
  {
   "cell_type": "code",
   "execution_count": 20,
   "metadata": {
    "collapsed": false
   },
   "outputs": [],
   "source": [
    "# Criamos uma docstring para a função celsius_para_kelvin\n",
    "def celsius_para_kelvin(temp):\n",
    "    \"\"\"\n",
    "    Função que converte uma dada temperatura em Celsius para uma temperatura Kelvin, utilizando a fórmula Kelvin = Celsius + 273,15.\n",
    "    Exemplos:\n",
    "    celsius_para_kelvin(0) = 273.15\n",
    "    celsius_para_kelvin(25.12) = 298.27\n",
    "    \"\"\"\n",
    "    # Definimos uma asserção, definindo que a temperatura em Celsius deve ser maior ou igual a -273.15, pois se for menor o resultado da temperatura em Kelvin será menor que o zero absoluto, gerando um AssertionError com a mensagem entre aspas abaixo \n",
    "    assert temp >= -273.15, \"Erro: a temperatura não pode ser menor que o zero absoluto\"\n",
    "    kelvin = temp + 273.15 # Definimos uma função chamada kelvin para calcularmos a partir de uma temperatura temp em ºC seu valor em K\n",
    "    return kelvin # Retornamos o resultado da conta acima"
   ]
  },
  {
   "cell_type": "markdown",
   "metadata": {},
   "source": [
    "As células abaixo testam se as funções estão fazendo a coisa certa (falhando quando menor que zero absoluto e não falhando caso contrário)."
   ]
  },
  {
   "cell_type": "code",
   "execution_count": 21,
   "metadata": {
    "collapsed": false
   },
   "outputs": [
    {
     "ename": "AssertionError",
     "evalue": "Erro: a temperatura não pode ser menor que o zero absoluto",
     "output_type": "error",
     "traceback": [
      "\u001b[1;31m---------------------------------------------------------------------------\u001b[0m",
      "\u001b[1;31mAssertionError\u001b[0m                            Traceback (most recent call last)",
      "\u001b[1;32m<ipython-input-21-f86fc0be9a2b>\u001b[0m in \u001b[0;36m<module>\u001b[1;34m()\u001b[0m\n\u001b[1;32m----> 1\u001b[1;33m \u001b[0mcelsius_para_kelvin\u001b[0m\u001b[1;33m(\u001b[0m\u001b[1;33m-\u001b[0m\u001b[1;36m300\u001b[0m\u001b[1;33m)\u001b[0m  \u001b[1;31m# Deve gerar um AssertionError\u001b[0m\u001b[1;33m\u001b[0m\u001b[0m\n\u001b[0m",
      "\u001b[1;32m<ipython-input-20-4cc71ce46843>\u001b[0m in \u001b[0;36mcelsius_para_kelvin\u001b[1;34m(temp)\u001b[0m\n\u001b[0;32m      8\u001b[0m     \"\"\"\n\u001b[0;32m      9\u001b[0m     \u001b[1;31m# Definimos uma asserção, definindo que a temperatura em Celsius deve ser maior ou igual a -273.15, pois se for menor o resultado da temperatura em Kelvin será menor que o zero absoluto, gerando um AssertionError com a mensagem entre aspas abaixo\u001b[0m\u001b[1;33m\u001b[0m\u001b[1;33m\u001b[0m\u001b[0m\n\u001b[1;32m---> 10\u001b[1;33m     \u001b[1;32massert\u001b[0m \u001b[0mtemp\u001b[0m \u001b[1;33m>=\u001b[0m \u001b[1;33m-\u001b[0m\u001b[1;36m273.15\u001b[0m\u001b[1;33m,\u001b[0m \u001b[1;34m\"Erro: a temperatura não pode ser menor que o zero absoluto\"\u001b[0m\u001b[1;33m\u001b[0m\u001b[0m\n\u001b[0m\u001b[0;32m     11\u001b[0m     \u001b[0mkelvin\u001b[0m \u001b[1;33m=\u001b[0m \u001b[0mtemp\u001b[0m \u001b[1;33m+\u001b[0m \u001b[1;36m273.15\u001b[0m \u001b[1;31m# Definimos uma função chamada kelvin para calcularmos a partir de uma temperatura temp em ºC seu valor em K\u001b[0m\u001b[1;33m\u001b[0m\u001b[0m\n\u001b[0;32m     12\u001b[0m     \u001b[1;32mreturn\u001b[0m \u001b[0mkelvin\u001b[0m \u001b[1;31m# Retornamos o resultado da conta acima\u001b[0m\u001b[1;33m\u001b[0m\u001b[0m\n",
      "\u001b[1;31mAssertionError\u001b[0m: Erro: a temperatura não pode ser menor que o zero absoluto"
     ]
    }
   ],
   "source": [
    "celsius_para_kelvin(-300)  # Deve gerar um AssertionError"
   ]
  },
  {
   "cell_type": "code",
   "execution_count": null,
   "metadata": {
    "collapsed": false
   },
   "outputs": [],
   "source": [
    "celsius_para_kelvin(-273.15)  # Não deve falhar"
   ]
  },
  {
   "cell_type": "code",
   "execution_count": null,
   "metadata": {
    "collapsed": false
   },
   "outputs": [],
   "source": [
    "celsius_para_kelvin(-273.16)  # Deve gerar um AssertionError"
   ]
  },
  {
   "cell_type": "markdown",
   "metadata": {},
   "source": [
    "### Tarefa - Checando outputs\n",
    "\n",
    "Utilize comandos `assert` para verificar se a função `celsius_para_fahr` está retornando o valor correto para pelo menos **5 temperaturas diferentes**.\n",
    "\n",
    "Como exemplo, vou deixar pronto 1 dos testes (sim, esse conta como 1 dos 5):"
   ]
  },
  {
   "cell_type": "code",
   "execution_count": null,
   "metadata": {
    "collapsed": false
   },
   "outputs": [],
   "source": [
    "assert celsius_para_fahr(0) == 32"
   ]
  },
  {
   "cell_type": "code",
   "execution_count": null,
   "metadata": {
    "collapsed": false
   },
   "outputs": [],
   "source": [
    "assert celsius_para_fahr(-64) == 212, \"Falso\" # Utilizamos o comando assert para conferir se -64ºC = 212ºF, que resultará em um AssertionError com a mensagem \"Falso\" caso o resultado esteja errado"
   ]
  },
  {
   "cell_type": "code",
   "execution_count": null,
   "metadata": {
    "collapsed": false
   },
   "outputs": [],
   "source": [
    "assert celsius_para_fahr(100) == 212, \"Falso\" # Utilizamos o comando assert para conferir se 100ºC = 212ºF, que resultará em um AssertionError com a mensagem \"Falso\" caso o resultado esteja errado"
   ]
  },
  {
   "cell_type": "code",
   "execution_count": null,
   "metadata": {
    "collapsed": false
   },
   "outputs": [],
   "source": [
    "assert celsius_para_fahr(-10) == 22, \"Falso\" # Utilizamos o comando assert para conferir se -10ºC = 22ºF, que resultará em um AssertionError com a mensagem \"Falso\" caso o resultado esteja errado"
   ]
  },
  {
   "cell_type": "code",
   "execution_count": null,
   "metadata": {
    "collapsed": false
   },
   "outputs": [],
   "source": [
    "assert celsius_para_fahr(98.648) == 38.6352, \"Falso\" # Utilizamos o comando assert para conferir se 98.648ºC = 38.6352ºF, que resultará em um AssertionError com a mensagem \"Falso\" caso o resultado esteja errado"
   ]
  },
  {
   "cell_type": "markdown",
   "metadata": {},
   "source": [
    "## Integrando tudo"
   ]
  },
  {
   "cell_type": "markdown",
   "metadata": {},
   "source": [
    "### Tarefa - Contas com matrizes\n",
    "\n",
    "Crie as funções abaixo:\n",
    "\n",
    "* `msoma`: recebe duas matrizes como entrada e retorna a soma dessas duas matrizes. Lembre-se que só é possível somar duas matrizes com o mesmo número de linhas e colunas.\n",
    "* `mmult`: recebe duas matrizes como entrada e retorna a multiplicação dessas matrizes. Lembre-se que só é possível multiplicar a matriz A por B se o número de colunas de A for igual ao número de linhas de B.\n",
    "* `vmult`: recebe uma matriz e um vetor como entrada e retorna a multiplicação da matriz pelo vetor.\n",
    "\n",
    "Todas as funções devem conter *docstrings* e `assert`s para conferir as entradas.\n",
    "\n",
    "**Dica**: Copie o código das aulas passadas."
   ]
  },
  {
   "cell_type": "code",
   "execution_count": 22,
   "metadata": {
    "collapsed": true
   },
   "outputs": [],
   "source": [
    "# Criamos a função msoma e adicionamos uma docstring\n",
    "def msoma(A, B):\n",
    "    \"\"\"\n",
    "    Função que faz o somatório de duas matrizes A e B e retorna o resultado como uma matriz C. Antes de fazer o somatório, a função confirma se as matrizes A e B possuem o mesmo número de linhas e colunas, pois essa condição é necessária para que se possa somar as matrizes.\n",
    "    \"\"\"\n",
    "# Definimos o número de linhas e colunas das matrizes A e B, para podermos compará-los posteriormente.\n",
    "    nlinhas_a = len(A)\n",
    "    nlinhas_b = len(B)\n",
    "    ncolunas_a = len(A[0])\n",
    "    ncolunas_b = len(B[0])\n",
    "# Criamos os asserts para compararmos o número de linhas e de colunas de A e B para verificar se a soma dessas matrizes é possível.\n",
    "    assert  nlinhas_a ==  nlinhas_b, \"O número de linhas das matrizes A e B tem que ser igual\"\n",
    "    assert  ncolunas_a ==  ncolunas_b, \"O número de colunas das matrizes A e B tem que ser igual\"\n",
    "# Criamos uma lista vazia C, que será o resultado, a matriz C.\n",
    "    C = []\n",
    "# Criamos uma lista linha que representa cada linha da matriz que queremos gerar, variamos i pelo número de linhas da matriz A (igual ao de B) e variamos j pelo número de colunas das matriz A (igual ao de B).\n",
    "    for i in range(nlinhas_a):\n",
    "        linha = [] \n",
    "        for j in range(ncolunas_a):\n",
    "# Definimos a equação que faz o somatório das matrizes A e B.\n",
    "            soma = A[i][j] + B[i][j]\n",
    "# Adicionamos cada soma como um elemento da lista linha.        \n",
    "            linha.append(soma)        \n",
    "# Adcionamos cada lista linha como um elemtento da lista C. Cada elemento de C então representa uma linha da matriz C.\n",
    "        C.append(linha)\n",
    "# Retornamos o resultado, a matriz C.\n",
    "    return C "
   ]
  },
  {
   "cell_type": "code",
   "execution_count": 39,
   "metadata": {
    "collapsed": true
   },
   "outputs": [],
   "source": [
    "# Criamos a função mmulti e adicionamos uma docstring\n",
    "def mmult(A, B):\n",
    "    \"\"\"\n",
    "    Função que faz a multiplicação de duas matrizes A e B e retorna o resultado como uma matriz C. Antes de fazer a multiplicação, a função confirma se o número de colunas de A é igual ao número de linhas de B, pois essa condição é necessária para que se possa multiplicar a matriz A pela matriz B.\n",
    "    \"\"\"\n",
    "    # Definimos o número de linhas e colunas das matrizes A e B, para podermos compará-los posteriormente.\n",
    "    nlinhas_a = len(A)\n",
    "    nlinhas_b = len(B)\n",
    "    ncolunas_a = len(A[0])\n",
    "    ncolunas_b = len(B[0])\n",
    "# Criamos um assert que compara o número de colunas de A e o número de linhas de B para verificar se a multiplicação dessas matrizes é possível.\n",
    "    assert ncolunas_a == nlinhas_b, \"O número de colunas de A e linhas de B tem que ser igual\"\n",
    "\n",
    "# Criamos uma lista vazia C, que será o resultado, a matriz C.\n",
    "    C = []\n",
    "# Criamos uma lista linha que representa cada linha da matriz que queremos gerar, variamos i pelo número de linhas da matriz A e variamos j pelo número de colunas da matriz B. \n",
    "    for i in range(nlinhas_a):\n",
    "        linha = []\n",
    "        for j in range(ncolunas_b):\n",
    "            multi = 0\n",
    "# Definimos a equação para a multiplicação das matrizes A e B.\n",
    "            for k in range(nlinhas_b):\n",
    "                multi = multi + A[i][k]*B[k][j]\n",
    "# Adicionamos cada multi como um elemento da lista linha.             \n",
    "            linha.append(multi)\n",
    "# Adcionamos cada lista linha como um elemtento da lista C. Cada elemento de C então representa uma linha da matriz C.\n",
    "        C.append(linha)\n",
    "# Retornamos o resultado, a matriz C.\n",
    "    return C"
   ]
  },
  {
   "cell_type": "code",
   "execution_count": 96,
   "metadata": {
    "collapsed": false
   },
   "outputs": [],
   "source": [
    "# Definimos a função vmult e adionamos uma docstring.\n",
    "def vmult(A, V):\n",
    "    \"\"\"\n",
    "    Função que faz a multiplicação de uma matriz A pelo vetor V e retorna o resultado como uma matriz C. Antes de fazer a multiplicação, a função confirma se o número de colunas de A é igual ao número de colunas de V, pois essa condição é necessária para que se possa multiplicar a matriz A pelo vetor V.\n",
    "    \"\"\"\n",
    "# Definimos o número de linhas e colunas da matriz A e o número de colunas do vetor V para podermos compará-los posteriormente.\n",
    "    nlinhas_a = len(A)\n",
    "    ncolunas_a = len(A[0])\n",
    "    ncolunas_v = len(V)\n",
    "# Criamos um assert para comparar o número de colunas da matriz A e do vetor V para verificar se a multiplição dos mesmos é possível.\n",
    "    assert ncolunas_a == ncolunas_v, \"O número de colunas da matriz a e do vetor V tem que ser igual\"\n",
    "# Criamos uma lista vazia U, que será o resultado, o vetor U.\n",
    "    U = []\n",
    "# Variamos i pelo número de linhas da matriz A.\n",
    "    for i in range(nlinhas_a):\n",
    "# Definimos para a soma começar de zero para o somatório que vamos fazer de cada linha.\n",
    "        soma = 0\n",
    "# Variamos k pelo número de colunas (elementos) do vetor v.\n",
    "        for k in range(ncolunas_v):\n",
    "            multip = A[i][k]*V[k]\n",
    "# Fizemos a multiplicação da matriz A pelo vetor v.\n",
    "            soma = soma + multip\n",
    "# Adicionamos os resultados de soma na lista U, que é o vetor U.\n",
    "        U.append(soma)\n",
    "    return U    "
   ]
  },
  {
   "cell_type": "markdown",
   "metadata": {},
   "source": [
    "Utilize as células abaixo para criar comandos `assert` que testem se suas funções produzem o resultado esperado. Utilize a função `np.allclose` do [numpy](http://numpy.org/) para verificar duas matrizes ou vetores possuem valores próximos (praticamente iguais). Exemplo:\n",
    "\n",
    "    A = [[1, 2], [3, 4]]\n",
    "    B = [[1, 2], [3, 4]]\n",
    "    np.allclose(A, B) -> True\n",
    "    \n",
    "    C = [[1.1, 2], [3, 4]]\n",
    "    np.allclose(A, C) -> False\n",
    "\n",
    "**Cada função deve ter pelo menos 4 testes**.\n",
    "\n",
    "Teste também se as suas funções falham quando a entrada é inadequada (dica: coloque esses casos cada um em uma célula).\n",
    "\n",
    "Como exemplo, deixo os primeiros testes prontos para vocês."
   ]
  },
  {
   "cell_type": "code",
   "execution_count": 34,
   "metadata": {
    "collapsed": false
   },
   "outputs": [],
   "source": [
    "# Testa se msoma produz o resultado esperado\n",
    "A = [[1, 2, 3], [4, 5, 6]]\n",
    "B = [[7, 8, 9], [10, 11, 12]]\n",
    "C = [[8, 10, 12], [14, 16, 18]]\n",
    "assert np.allclose(msoma(A, B), C)\n",
    "# Coloque abaixo os seus asserts"
   ]
  },
  {
   "cell_type": "code",
   "execution_count": 36,
   "metadata": {
    "collapsed": false
   },
   "outputs": [
    {
     "ename": "AssertionError",
     "evalue": "O número de colunas das matrizes A e B tem que ser igual",
     "output_type": "error",
     "traceback": [
      "\u001b[1;31m---------------------------------------------------------------------------\u001b[0m",
      "\u001b[1;31mAssertionError\u001b[0m                            Traceback (most recent call last)",
      "\u001b[1;32m<ipython-input-36-21428eb441ea>\u001b[0m in \u001b[0;36m<module>\u001b[1;34m()\u001b[0m\n\u001b[1;32m----> 1\u001b[1;33m \u001b[0mmsoma\u001b[0m\u001b[1;33m(\u001b[0m\u001b[1;33m[\u001b[0m\u001b[1;33m[\u001b[0m\u001b[1;36m1\u001b[0m\u001b[1;33m,\u001b[0m \u001b[1;36m2\u001b[0m\u001b[1;33m,\u001b[0m \u001b[1;36m3\u001b[0m\u001b[1;33m]\u001b[0m\u001b[1;33m,\u001b[0m \u001b[1;33m[\u001b[0m\u001b[1;36m4\u001b[0m\u001b[1;33m,\u001b[0m \u001b[1;36m5\u001b[0m\u001b[1;33m,\u001b[0m \u001b[1;36m6\u001b[0m\u001b[1;33m]\u001b[0m\u001b[1;33m]\u001b[0m\u001b[1;33m,\u001b[0m \u001b[1;33m[\u001b[0m\u001b[1;33m[\u001b[0m\u001b[1;36m1\u001b[0m\u001b[1;33m,\u001b[0m \u001b[1;36m2\u001b[0m\u001b[1;33m]\u001b[0m\u001b[1;33m,\u001b[0m \u001b[1;33m[\u001b[0m\u001b[1;36m1\u001b[0m\u001b[1;33m,\u001b[0m \u001b[1;36m2\u001b[0m\u001b[1;33m]\u001b[0m\u001b[1;33m]\u001b[0m\u001b[1;33m)\u001b[0m  \u001b[1;31m# Deve produzir um AssertionError\u001b[0m\u001b[1;33m\u001b[0m\u001b[0m\n\u001b[0m",
      "\u001b[1;32m<ipython-input-22-415737f26b44>\u001b[0m in \u001b[0;36mmsoma\u001b[1;34m(A, B)\u001b[0m\n\u001b[0;32m     11\u001b[0m \u001b[1;31m# Criamos os asserts para compararmos o número de linhas e de colunas de A e B para verificar-se se a soma dessas matrizes é possível.\u001b[0m\u001b[1;33m\u001b[0m\u001b[1;33m\u001b[0m\u001b[0m\n\u001b[0;32m     12\u001b[0m     \u001b[1;32massert\u001b[0m  \u001b[0mnlinhas_a\u001b[0m \u001b[1;33m==\u001b[0m  \u001b[0mnlinhas_b\u001b[0m\u001b[1;33m,\u001b[0m \u001b[1;34m\"O número de linhas das matrizes A e B tem que ser igual\"\u001b[0m\u001b[1;33m\u001b[0m\u001b[0m\n\u001b[1;32m---> 13\u001b[1;33m     \u001b[1;32massert\u001b[0m  \u001b[0mncolunas_a\u001b[0m \u001b[1;33m==\u001b[0m  \u001b[0mncolunas_b\u001b[0m\u001b[1;33m,\u001b[0m \u001b[1;34m\"O número de colunas das matrizes A e B tem que ser igual\"\u001b[0m\u001b[1;33m\u001b[0m\u001b[0m\n\u001b[0m\u001b[0;32m     14\u001b[0m \u001b[1;31m# Criamos uma lista vazia C, que será o resultado, a matriz C.\u001b[0m\u001b[1;33m\u001b[0m\u001b[1;33m\u001b[0m\u001b[0m\n\u001b[0;32m     15\u001b[0m     \u001b[0mC\u001b[0m \u001b[1;33m=\u001b[0m \u001b[1;33m[\u001b[0m\u001b[1;33m]\u001b[0m\u001b[1;33m\u001b[0m\u001b[0m\n",
      "\u001b[1;31mAssertionError\u001b[0m: O número de colunas das matrizes A e B tem que ser igual"
     ]
    }
   ],
   "source": [
    "msoma([[1, 2, 3], [4, 5, 6]], [[1, 2], [1, 2]])  # Deve produzir um AssertionError"
   ]
  },
  {
   "cell_type": "code",
   "execution_count": 29,
   "metadata": {
    "collapsed": false
   },
   "outputs": [
    {
     "ename": "AssertionError",
     "evalue": "O número de linhas das matrizes A e B tem que ser igual",
     "output_type": "error",
     "traceback": [
      "\u001b[1;31m---------------------------------------------------------------------------\u001b[0m",
      "\u001b[1;31mAssertionError\u001b[0m                            Traceback (most recent call last)",
      "\u001b[1;32m<ipython-input-29-a2ed7db8ebe9>\u001b[0m in \u001b[0;36m<module>\u001b[1;34m()\u001b[0m\n\u001b[1;32m----> 1\u001b[1;33m \u001b[0mmsoma\u001b[0m\u001b[1;33m(\u001b[0m\u001b[1;33m[\u001b[0m\u001b[1;33m[\u001b[0m\u001b[1;36m1\u001b[0m\u001b[1;33m,\u001b[0m \u001b[1;36m2\u001b[0m\u001b[1;33m,\u001b[0m \u001b[1;36m3\u001b[0m\u001b[1;33m]\u001b[0m\u001b[1;33m,\u001b[0m \u001b[1;33m[\u001b[0m\u001b[1;36m4\u001b[0m\u001b[1;33m,\u001b[0m \u001b[1;36m5\u001b[0m\u001b[1;33m,\u001b[0m \u001b[1;36m6\u001b[0m\u001b[1;33m]\u001b[0m\u001b[1;33m]\u001b[0m\u001b[1;33m,\u001b[0m \u001b[1;33m[\u001b[0m\u001b[1;33m[\u001b[0m\u001b[1;36m5\u001b[0m\u001b[1;33m,\u001b[0m \u001b[1;36m7\u001b[0m\u001b[1;33m,\u001b[0m \u001b[1;36m9\u001b[0m\u001b[1;33m]\u001b[0m\u001b[1;33m]\u001b[0m\u001b[1;33m)\u001b[0m  \u001b[1;31m# Deve produzir um AssertionError\u001b[0m\u001b[1;33m\u001b[0m\u001b[0m\n\u001b[0m",
      "\u001b[1;32m<ipython-input-22-415737f26b44>\u001b[0m in \u001b[0;36mmsoma\u001b[1;34m(A, B)\u001b[0m\n\u001b[0;32m     10\u001b[0m     \u001b[0mncolunas_b\u001b[0m \u001b[1;33m=\u001b[0m \u001b[0mlen\u001b[0m\u001b[1;33m(\u001b[0m\u001b[0mB\u001b[0m\u001b[1;33m[\u001b[0m\u001b[1;36m0\u001b[0m\u001b[1;33m]\u001b[0m\u001b[1;33m)\u001b[0m\u001b[1;33m\u001b[0m\u001b[0m\n\u001b[0;32m     11\u001b[0m \u001b[1;31m# Criamos os asserts para compararmos o número de linhas e de colunas de A e B para verificar-se se a soma dessas matrizes é possível.\u001b[0m\u001b[1;33m\u001b[0m\u001b[1;33m\u001b[0m\u001b[0m\n\u001b[1;32m---> 12\u001b[1;33m     \u001b[1;32massert\u001b[0m  \u001b[0mnlinhas_a\u001b[0m \u001b[1;33m==\u001b[0m  \u001b[0mnlinhas_b\u001b[0m\u001b[1;33m,\u001b[0m \u001b[1;34m\"O número de linhas das matrizes A e B tem que ser igual\"\u001b[0m\u001b[1;33m\u001b[0m\u001b[0m\n\u001b[0m\u001b[0;32m     13\u001b[0m     \u001b[1;32massert\u001b[0m  \u001b[0mncolunas_a\u001b[0m \u001b[1;33m==\u001b[0m  \u001b[0mncolunas_b\u001b[0m\u001b[1;33m,\u001b[0m \u001b[1;34m\"O número de colunas das matrizes A e B tem que ser igual\"\u001b[0m\u001b[1;33m\u001b[0m\u001b[0m\n\u001b[0;32m     14\u001b[0m \u001b[1;31m# Criamos uma lista vazia C, que será o resultado, a matriz C.\u001b[0m\u001b[1;33m\u001b[0m\u001b[1;33m\u001b[0m\u001b[0m\n",
      "\u001b[1;31mAssertionError\u001b[0m: O número de linhas das matrizes A e B tem que ser igual"
     ]
    }
   ],
   "source": [
    "msoma([[1, 2, 3], [4, 5, 6]], [[1, 2, 3]])  # Deve produzir um AssertionError"
   ]
  },
  {
   "cell_type": "code",
   "execution_count": 26,
   "metadata": {
    "collapsed": false,
    "scrolled": true
   },
   "outputs": [
    {
     "ename": "AssertionError",
     "evalue": "O número de colunas das matrizes A e B tem que ser igual",
     "output_type": "error",
     "traceback": [
      "\u001b[1;31m---------------------------------------------------------------------------\u001b[0m",
      "\u001b[1;31mAssertionError\u001b[0m                            Traceback (most recent call last)",
      "\u001b[1;32m<ipython-input-26-a9abc7f5982b>\u001b[0m in \u001b[0;36m<module>\u001b[1;34m()\u001b[0m\n\u001b[0;32m      3\u001b[0m \u001b[0mB\u001b[0m \u001b[1;33m=\u001b[0m \u001b[1;33m[\u001b[0m\u001b[1;33m[\u001b[0m\u001b[1;36m7\u001b[0m\u001b[1;33m,\u001b[0m \u001b[1;36m8\u001b[0m\u001b[1;33m,\u001b[0m \u001b[1;36m9\u001b[0m\u001b[1;33m]\u001b[0m\u001b[1;33m,\u001b[0m \u001b[1;33m[\u001b[0m\u001b[1;36m10\u001b[0m\u001b[1;33m,\u001b[0m \u001b[1;36m11\u001b[0m\u001b[1;33m,\u001b[0m \u001b[1;36m12\u001b[0m\u001b[1;33m]\u001b[0m\u001b[1;33m]\u001b[0m\u001b[1;33m\u001b[0m\u001b[0m\n\u001b[0;32m      4\u001b[0m \u001b[0mC\u001b[0m \u001b[1;33m=\u001b[0m \u001b[1;33m[\u001b[0m\u001b[1;33m[\u001b[0m\u001b[1;36m8\u001b[0m\u001b[1;33m,\u001b[0m \u001b[1;36m10\u001b[0m\u001b[1;33m,\u001b[0m \u001b[1;36m9\u001b[0m\u001b[1;33m]\u001b[0m\u001b[1;33m,\u001b[0m \u001b[1;33m[\u001b[0m\u001b[1;36m14\u001b[0m\u001b[1;33m,\u001b[0m \u001b[1;36m16\u001b[0m\u001b[1;33m,\u001b[0m \u001b[1;36m12\u001b[0m\u001b[1;33m]\u001b[0m\u001b[1;33m]\u001b[0m\u001b[1;33m\u001b[0m\u001b[0m\n\u001b[1;32m----> 5\u001b[1;33m \u001b[1;32massert\u001b[0m \u001b[0mnp\u001b[0m\u001b[1;33m.\u001b[0m\u001b[0mallclose\u001b[0m\u001b[1;33m(\u001b[0m\u001b[0mmsoma\u001b[0m\u001b[1;33m(\u001b[0m\u001b[0mA\u001b[0m\u001b[1;33m,\u001b[0m \u001b[0mB\u001b[0m\u001b[1;33m)\u001b[0m\u001b[1;33m,\u001b[0m \u001b[0mC\u001b[0m\u001b[1;33m)\u001b[0m\u001b[1;33m\u001b[0m\u001b[0m\n\u001b[0m",
      "\u001b[1;32m<ipython-input-22-415737f26b44>\u001b[0m in \u001b[0;36mmsoma\u001b[1;34m(A, B)\u001b[0m\n\u001b[0;32m     11\u001b[0m \u001b[1;31m# Criamos os asserts para compararmos o número de linhas e de colunas de A e B para verificar-se se a soma dessas matrizes é possível.\u001b[0m\u001b[1;33m\u001b[0m\u001b[1;33m\u001b[0m\u001b[0m\n\u001b[0;32m     12\u001b[0m     \u001b[1;32massert\u001b[0m  \u001b[0mnlinhas_a\u001b[0m \u001b[1;33m==\u001b[0m  \u001b[0mnlinhas_b\u001b[0m\u001b[1;33m,\u001b[0m \u001b[1;34m\"O número de linhas das matrizes A e B tem que ser igual\"\u001b[0m\u001b[1;33m\u001b[0m\u001b[0m\n\u001b[1;32m---> 13\u001b[1;33m     \u001b[1;32massert\u001b[0m  \u001b[0mncolunas_a\u001b[0m \u001b[1;33m==\u001b[0m  \u001b[0mncolunas_b\u001b[0m\u001b[1;33m,\u001b[0m \u001b[1;34m\"O número de colunas das matrizes A e B tem que ser igual\"\u001b[0m\u001b[1;33m\u001b[0m\u001b[0m\n\u001b[0m\u001b[0;32m     14\u001b[0m \u001b[1;31m# Criamos uma lista vazia C, que será o resultado, a matriz C.\u001b[0m\u001b[1;33m\u001b[0m\u001b[1;33m\u001b[0m\u001b[0m\n\u001b[0;32m     15\u001b[0m     \u001b[0mC\u001b[0m \u001b[1;33m=\u001b[0m \u001b[1;33m[\u001b[0m\u001b[1;33m]\u001b[0m\u001b[1;33m\u001b[0m\u001b[0m\n",
      "\u001b[1;31mAssertionError\u001b[0m: O número de colunas das matrizes A e B tem que ser igual"
     ]
    }
   ],
   "source": [
    "# Testa se msoma produz o resultado esperado\n",
    "A = [[1, 2], [4, 5]]\n",
    "B = [[7, 8, 9], [10, 11, 12]]\n",
    "C = [[8, 10, 9], [14, 16, 12]]\n",
    "assert np.allclose(msoma(A, B), C)"
   ]
  },
  {
   "cell_type": "code",
   "execution_count": 27,
   "metadata": {
    "collapsed": false
   },
   "outputs": [
    {
     "ename": "AssertionError",
     "evalue": "O número de linhas das matrizes A e B tem que ser igual",
     "output_type": "error",
     "traceback": [
      "\u001b[1;31m---------------------------------------------------------------------------\u001b[0m",
      "\u001b[1;31mAssertionError\u001b[0m                            Traceback (most recent call last)",
      "\u001b[1;32m<ipython-input-27-e281826e5d2f>\u001b[0m in \u001b[0;36m<module>\u001b[1;34m()\u001b[0m\n\u001b[0;32m      3\u001b[0m \u001b[0mB\u001b[0m \u001b[1;33m=\u001b[0m \u001b[1;33m[\u001b[0m\u001b[1;33m[\u001b[0m\u001b[1;36m7\u001b[0m\u001b[1;33m,\u001b[0m \u001b[1;36m8\u001b[0m\u001b[1;33m,\u001b[0m \u001b[1;36m9\u001b[0m\u001b[1;33m]\u001b[0m\u001b[1;33m,\u001b[0m \u001b[1;33m[\u001b[0m\u001b[1;36m10\u001b[0m\u001b[1;33m,\u001b[0m \u001b[1;36m11\u001b[0m\u001b[1;33m,\u001b[0m \u001b[1;36m12\u001b[0m\u001b[1;33m]\u001b[0m\u001b[1;33m]\u001b[0m\u001b[1;33m\u001b[0m\u001b[0m\n\u001b[0;32m      4\u001b[0m \u001b[0mC\u001b[0m \u001b[1;33m=\u001b[0m \u001b[1;33m[\u001b[0m\u001b[1;33m[\u001b[0m\u001b[1;36m8\u001b[0m\u001b[1;33m,\u001b[0m \u001b[1;36m10\u001b[0m\u001b[1;33m,\u001b[0m \u001b[1;36m12\u001b[0m\u001b[1;33m]\u001b[0m\u001b[1;33m,\u001b[0m \u001b[1;33m[\u001b[0m\u001b[1;36m10\u001b[0m\u001b[1;33m,\u001b[0m \u001b[1;36m11\u001b[0m\u001b[1;33m,\u001b[0m \u001b[1;36m12\u001b[0m\u001b[1;33m]\u001b[0m\u001b[1;33m]\u001b[0m\u001b[1;33m\u001b[0m\u001b[0m\n\u001b[1;32m----> 5\u001b[1;33m \u001b[1;32massert\u001b[0m \u001b[0mnp\u001b[0m\u001b[1;33m.\u001b[0m\u001b[0mallclose\u001b[0m\u001b[1;33m(\u001b[0m\u001b[0mmsoma\u001b[0m\u001b[1;33m(\u001b[0m\u001b[0mA\u001b[0m\u001b[1;33m,\u001b[0m \u001b[0mB\u001b[0m\u001b[1;33m)\u001b[0m\u001b[1;33m,\u001b[0m \u001b[0mC\u001b[0m\u001b[1;33m)\u001b[0m\u001b[1;33m\u001b[0m\u001b[0m\n\u001b[0m",
      "\u001b[1;32m<ipython-input-22-415737f26b44>\u001b[0m in \u001b[0;36mmsoma\u001b[1;34m(A, B)\u001b[0m\n\u001b[0;32m     10\u001b[0m     \u001b[0mncolunas_b\u001b[0m \u001b[1;33m=\u001b[0m \u001b[0mlen\u001b[0m\u001b[1;33m(\u001b[0m\u001b[0mB\u001b[0m\u001b[1;33m[\u001b[0m\u001b[1;36m0\u001b[0m\u001b[1;33m]\u001b[0m\u001b[1;33m)\u001b[0m\u001b[1;33m\u001b[0m\u001b[0m\n\u001b[0;32m     11\u001b[0m \u001b[1;31m# Criamos os asserts para compararmos o número de linhas e de colunas de A e B para verificar-se se a soma dessas matrizes é possível.\u001b[0m\u001b[1;33m\u001b[0m\u001b[1;33m\u001b[0m\u001b[0m\n\u001b[1;32m---> 12\u001b[1;33m     \u001b[1;32massert\u001b[0m  \u001b[0mnlinhas_a\u001b[0m \u001b[1;33m==\u001b[0m  \u001b[0mnlinhas_b\u001b[0m\u001b[1;33m,\u001b[0m \u001b[1;34m\"O número de linhas das matrizes A e B tem que ser igual\"\u001b[0m\u001b[1;33m\u001b[0m\u001b[0m\n\u001b[0m\u001b[0;32m     13\u001b[0m     \u001b[1;32massert\u001b[0m  \u001b[0mncolunas_a\u001b[0m \u001b[1;33m==\u001b[0m  \u001b[0mncolunas_b\u001b[0m\u001b[1;33m,\u001b[0m \u001b[1;34m\"O número de colunas das matrizes A e B tem que ser igual\"\u001b[0m\u001b[1;33m\u001b[0m\u001b[0m\n\u001b[0;32m     14\u001b[0m \u001b[1;31m# Criamos uma lista vazia C, que será o resultado, a matriz C.\u001b[0m\u001b[1;33m\u001b[0m\u001b[1;33m\u001b[0m\u001b[0m\n",
      "\u001b[1;31mAssertionError\u001b[0m: O número de linhas das matrizes A e B tem que ser igual"
     ]
    }
   ],
   "source": [
    "# Testa se msoma produz o resultado esperado\n",
    "A = [[1, 2, 3]]\n",
    "B = [[7, 8, 9], [10, 11, 12]]\n",
    "C = [[8, 10, 12], [10, 11, 12]]\n",
    "assert np.allclose(msoma(A, B), C)"
   ]
  },
  {
   "cell_type": "code",
   "execution_count": 37,
   "metadata": {
    "collapsed": false
   },
   "outputs": [
    {
     "data": {
      "text/plain": [
       "[[2.5, -2], [0, -1]]"
      ]
     },
     "execution_count": 37,
     "metadata": {},
     "output_type": "execute_result"
    }
   ],
   "source": [
    "msoma([[1, 2], [0, -1]], [[1.5, -4], [0, 0]])"
   ]
  },
  {
   "cell_type": "code",
   "execution_count": 45,
   "metadata": {
    "collapsed": false
   },
   "outputs": [],
   "source": [
    "# Testa se mmult produz o resultado esperado\n",
    "A = [[1, 1]]\n",
    "B = [[5, 2], [3, 0]]\n",
    "C = [[8, 2]]\n",
    "assert np.allclose(mmult(A, B), C)"
   ]
  },
  {
   "cell_type": "code",
   "execution_count": 46,
   "metadata": {
    "collapsed": false
   },
   "outputs": [
    {
     "ename": "AssertionError",
     "evalue": "O número de colunas de A e linhas de B tem que ser igual",
     "output_type": "error",
     "traceback": [
      "\u001b[1;31m---------------------------------------------------------------------------\u001b[0m",
      "\u001b[1;31mAssertionError\u001b[0m                            Traceback (most recent call last)",
      "\u001b[1;32m<ipython-input-46-808dae34272a>\u001b[0m in \u001b[0;36m<module>\u001b[1;34m()\u001b[0m\n\u001b[0;32m      3\u001b[0m \u001b[0mB\u001b[0m \u001b[1;33m=\u001b[0m \u001b[1;33m[\u001b[0m\u001b[1;33m[\u001b[0m\u001b[1;36m1\u001b[0m\u001b[1;33m,\u001b[0m \u001b[1;36m1\u001b[0m\u001b[1;33m]\u001b[0m\u001b[1;33m]\u001b[0m\u001b[1;33m\u001b[0m\u001b[0m\n\u001b[0;32m      4\u001b[0m \u001b[0mC\u001b[0m \u001b[1;33m=\u001b[0m \u001b[1;33m[\u001b[0m\u001b[1;33m[\u001b[0m\u001b[1;36m8\u001b[0m\u001b[1;33m,\u001b[0m \u001b[1;36m2\u001b[0m\u001b[1;33m]\u001b[0m\u001b[1;33m]\u001b[0m\u001b[1;33m\u001b[0m\u001b[0m\n\u001b[1;32m----> 5\u001b[1;33m \u001b[1;32massert\u001b[0m \u001b[0mnp\u001b[0m\u001b[1;33m.\u001b[0m\u001b[0mallclose\u001b[0m\u001b[1;33m(\u001b[0m\u001b[0mmmult\u001b[0m\u001b[1;33m(\u001b[0m\u001b[0mA\u001b[0m\u001b[1;33m,\u001b[0m \u001b[0mB\u001b[0m\u001b[1;33m)\u001b[0m\u001b[1;33m,\u001b[0m \u001b[0mC\u001b[0m\u001b[1;33m)\u001b[0m\u001b[1;33m\u001b[0m\u001b[0m\n\u001b[0m",
      "\u001b[1;32m<ipython-input-39-491610655772>\u001b[0m in \u001b[0;36mmmult\u001b[1;34m(A, B)\u001b[0m\n\u001b[0;32m     10\u001b[0m     \u001b[0mncolunas_b\u001b[0m \u001b[1;33m=\u001b[0m \u001b[0mlen\u001b[0m\u001b[1;33m(\u001b[0m\u001b[0mB\u001b[0m\u001b[1;33m[\u001b[0m\u001b[1;36m0\u001b[0m\u001b[1;33m]\u001b[0m\u001b[1;33m)\u001b[0m\u001b[1;33m\u001b[0m\u001b[0m\n\u001b[0;32m     11\u001b[0m \u001b[1;31m# Criamos um assert que compara o número de colunas de A e o número de linhas de B para verificar se a multiplicação dessas matrizes é possível.\u001b[0m\u001b[1;33m\u001b[0m\u001b[1;33m\u001b[0m\u001b[0m\n\u001b[1;32m---> 12\u001b[1;33m     \u001b[1;32massert\u001b[0m \u001b[0mncolunas_a\u001b[0m \u001b[1;33m==\u001b[0m \u001b[0mnlinhas_b\u001b[0m\u001b[1;33m,\u001b[0m \u001b[1;34m\"O número de colunas de A e linhas de B tem que ser igual\"\u001b[0m\u001b[1;33m\u001b[0m\u001b[0m\n\u001b[0m\u001b[0;32m     13\u001b[0m \u001b[1;33m\u001b[0m\u001b[0m\n\u001b[0;32m     14\u001b[0m \u001b[1;31m# Criamos uma lista vazia C, que será o resultado, a matriz C.\u001b[0m\u001b[1;33m\u001b[0m\u001b[1;33m\u001b[0m\u001b[0m\n",
      "\u001b[1;31mAssertionError\u001b[0m: O número de colunas de A e linhas de B tem que ser igual"
     ]
    }
   ],
   "source": [
    "# Testa se mmult produz o resultado esperado\n",
    "A = [[5, 2], [3, 0]]\n",
    "B = [[1, 1]]\n",
    "C = [[8, 2]]\n",
    "assert np.allclose(mmult(A, B), C)"
   ]
  },
  {
   "cell_type": "code",
   "execution_count": 50,
   "metadata": {
    "collapsed": false
   },
   "outputs": [
    {
     "data": {
      "text/plain": [
       "[[0.0,\n",
       "  -8428782.94228,\n",
       "  -16857565.88456,\n",
       "  -25286348.82684,\n",
       "  -33715131.76912,\n",
       "  -42143914.7114,\n",
       "  -50572697.65368,\n",
       "  -59001480.59596,\n",
       "  -67430263.53824,\n",
       "  -75859046.48052]]"
      ]
     },
     "execution_count": 50,
     "metadata": {},
     "output_type": "execute_result"
    }
   ],
   "source": [
    "mmult([[-8428782.942280]], [[0, 1, 2, 3, 4, 5, 6, 7, 8, 9]])"
   ]
  },
  {
   "cell_type": "code",
   "execution_count": 52,
   "metadata": {
    "collapsed": false
   },
   "outputs": [
    {
     "ename": "AssertionError",
     "evalue": "O número de colunas de A e linhas de B tem que ser igual",
     "output_type": "error",
     "traceback": [
      "\u001b[1;31m---------------------------------------------------------------------------\u001b[0m",
      "\u001b[1;31mAssertionError\u001b[0m                            Traceback (most recent call last)",
      "\u001b[1;32m<ipython-input-52-34c9df03cb9c>\u001b[0m in \u001b[0;36m<module>\u001b[1;34m()\u001b[0m\n\u001b[1;32m----> 1\u001b[1;33m \u001b[0mmmult\u001b[0m\u001b[1;33m(\u001b[0m\u001b[1;33m[\u001b[0m\u001b[1;33m[\u001b[0m\u001b[1;36m4\u001b[0m\u001b[1;33m,\u001b[0m \u001b[1;36m3\u001b[0m\u001b[1;33m,\u001b[0m \u001b[1;36m5.7\u001b[0m\u001b[1;33m,\u001b[0m \u001b[1;33m-\u001b[0m\u001b[1;36m8\u001b[0m\u001b[1;33m]\u001b[0m\u001b[1;33m,\u001b[0m \u001b[1;33m[\u001b[0m\u001b[1;36m3\u001b[0m\u001b[1;33m,\u001b[0m \u001b[1;36m5\u001b[0m\u001b[1;33m,\u001b[0m \u001b[1;33m-\u001b[0m\u001b[1;36m2\u001b[0m\u001b[1;33m,\u001b[0m \u001b[1;36m0\u001b[0m\u001b[1;33m]\u001b[0m\u001b[1;33m]\u001b[0m\u001b[1;33m,\u001b[0m \u001b[1;33m[\u001b[0m\u001b[1;33m[\u001b[0m\u001b[1;36m2\u001b[0m\u001b[1;33m,\u001b[0m \u001b[1;36m8\u001b[0m\u001b[1;33m]\u001b[0m\u001b[1;33m]\u001b[0m\u001b[1;33m)\u001b[0m\u001b[1;33m\u001b[0m\u001b[0m\n\u001b[0m",
      "\u001b[1;32m<ipython-input-39-491610655772>\u001b[0m in \u001b[0;36mmmult\u001b[1;34m(A, B)\u001b[0m\n\u001b[0;32m     10\u001b[0m     \u001b[0mncolunas_b\u001b[0m \u001b[1;33m=\u001b[0m \u001b[0mlen\u001b[0m\u001b[1;33m(\u001b[0m\u001b[0mB\u001b[0m\u001b[1;33m[\u001b[0m\u001b[1;36m0\u001b[0m\u001b[1;33m]\u001b[0m\u001b[1;33m)\u001b[0m\u001b[1;33m\u001b[0m\u001b[0m\n\u001b[0;32m     11\u001b[0m \u001b[1;31m# Criamos um assert que compara o número de colunas de A e o número de linhas de B para verificar se a multiplicação dessas matrizes é possível.\u001b[0m\u001b[1;33m\u001b[0m\u001b[1;33m\u001b[0m\u001b[0m\n\u001b[1;32m---> 12\u001b[1;33m     \u001b[1;32massert\u001b[0m \u001b[0mncolunas_a\u001b[0m \u001b[1;33m==\u001b[0m \u001b[0mnlinhas_b\u001b[0m\u001b[1;33m,\u001b[0m \u001b[1;34m\"O número de colunas de A e linhas de B tem que ser igual\"\u001b[0m\u001b[1;33m\u001b[0m\u001b[0m\n\u001b[0m\u001b[0;32m     13\u001b[0m \u001b[1;33m\u001b[0m\u001b[0m\n\u001b[0;32m     14\u001b[0m \u001b[1;31m# Criamos uma lista vazia C, que será o resultado, a matriz C.\u001b[0m\u001b[1;33m\u001b[0m\u001b[1;33m\u001b[0m\u001b[0m\n",
      "\u001b[1;31mAssertionError\u001b[0m: O número de colunas de A e linhas de B tem que ser igual"
     ]
    }
   ],
   "source": [
    "mmult([[4, 3, 5.7, -8], [3, 5, -2, 0]], [[2, 8]])"
   ]
  },
  {
   "cell_type": "code",
   "execution_count": 103,
   "metadata": {
    "collapsed": false
   },
   "outputs": [],
   "source": [
    "# Testa se vmult produz o resultado esperado\n",
    "A = [[1, 2, 3, 4],\n",
    "     [4, 5, 6, 7],\n",
    "     [7, 8, 9, 10]]\n",
    "V = [12, 13, 14, 15]\n",
    "U = [140, 302, 464]\n",
    "assert np.allclose(vmult(A, V), U)"
   ]
  },
  {
   "cell_type": "code",
   "execution_count": 104,
   "metadata": {
    "collapsed": false
   },
   "outputs": [
    {
     "data": {
      "text/plain": [
       "[20]"
      ]
     },
     "execution_count": 104,
     "metadata": {},
     "output_type": "execute_result"
    }
   ],
   "source": [
    "vmult([[1, 2, 3]], [2, 3, 4])"
   ]
  },
  {
   "cell_type": "code",
   "execution_count": 105,
   "metadata": {
    "collapsed": false
   },
   "outputs": [
    {
     "data": {
      "text/plain": [
       "[3.5, 8.0, 12.5]"
      ]
     },
     "execution_count": 105,
     "metadata": {},
     "output_type": "execute_result"
    }
   ],
   "source": [
    "vmult([[1, 2, 3], [4, 5, 6], [7, 8, 9]], [0.25, 0.5, 0.75])"
   ]
  },
  {
   "cell_type": "code",
   "execution_count": 106,
   "metadata": {
    "collapsed": false
   },
   "outputs": [
    {
     "ename": "AssertionError",
     "evalue": "O número de colunas da matriz a e do vetor V tem que ser igual",
     "output_type": "error",
     "traceback": [
      "\u001b[1;31m---------------------------------------------------------------------------\u001b[0m",
      "\u001b[1;31mAssertionError\u001b[0m                            Traceback (most recent call last)",
      "\u001b[1;32m<ipython-input-106-fd11a80f5dd9>\u001b[0m in \u001b[0;36m<module>\u001b[1;34m()\u001b[0m\n\u001b[1;32m----> 1\u001b[1;33m \u001b[0mvmult\u001b[0m\u001b[1;33m(\u001b[0m\u001b[1;33m[\u001b[0m\u001b[1;33m[\u001b[0m\u001b[1;36m10\u001b[0m\u001b[1;33m,\u001b[0m \u001b[1;36m20\u001b[0m\u001b[1;33m]\u001b[0m\u001b[1;33m,\u001b[0m \u001b[1;33m[\u001b[0m\u001b[1;36m3\u001b[0m\u001b[1;33m,\u001b[0m \u001b[1;36m4\u001b[0m\u001b[1;33m]\u001b[0m\u001b[1;33m,\u001b[0m \u001b[1;33m[\u001b[0m\u001b[1;36m98\u001b[0m\u001b[1;33m,\u001b[0m \u001b[1;36m0\u001b[0m\u001b[1;33m]\u001b[0m\u001b[1;33m,\u001b[0m \u001b[1;33m[\u001b[0m\u001b[1;36m5\u001b[0m\u001b[1;33m,\u001b[0m \u001b[1;36m8\u001b[0m\u001b[1;33m]\u001b[0m\u001b[1;33m,\u001b[0m \u001b[1;33m[\u001b[0m\u001b[1;33m-\u001b[0m\u001b[1;36m1\u001b[0m\u001b[1;33m,\u001b[0m \u001b[1;36m2\u001b[0m\u001b[1;33m]\u001b[0m\u001b[1;33m]\u001b[0m\u001b[1;33m,\u001b[0m \u001b[1;33m[\u001b[0m\u001b[1;33m-\u001b[0m\u001b[1;36m1\u001b[0m\u001b[1;33m,\u001b[0m \u001b[1;36m0\u001b[0m\u001b[1;33m,\u001b[0m \u001b[1;36m0.5\u001b[0m\u001b[1;33m,\u001b[0m \u001b[1;36m1\u001b[0m\u001b[1;33m,\u001b[0m \u001b[1;36m10\u001b[0m\u001b[1;33m]\u001b[0m\u001b[1;33m)\u001b[0m\u001b[1;33m\u001b[0m\u001b[0m\n\u001b[0m",
      "\u001b[1;32m<ipython-input-96-1c11d91861f6>\u001b[0m in \u001b[0;36mvmult\u001b[1;34m(A, V)\u001b[0m\n\u001b[0;32m      9\u001b[0m     \u001b[0mncolunas_v\u001b[0m \u001b[1;33m=\u001b[0m \u001b[0mlen\u001b[0m\u001b[1;33m(\u001b[0m\u001b[0mV\u001b[0m\u001b[1;33m)\u001b[0m\u001b[1;33m\u001b[0m\u001b[0m\n\u001b[0;32m     10\u001b[0m \u001b[1;31m# Criamos um assert para comparar o número de colunas da matriz A e do vetor V para verificar se a multiplição dos mesmos é possível.\u001b[0m\u001b[1;33m\u001b[0m\u001b[1;33m\u001b[0m\u001b[0m\n\u001b[1;32m---> 11\u001b[1;33m     \u001b[1;32massert\u001b[0m \u001b[0mncolunas_a\u001b[0m \u001b[1;33m==\u001b[0m \u001b[0mncolunas_v\u001b[0m\u001b[1;33m,\u001b[0m \u001b[1;34m\"O número de colunas da matriz a e do vetor V tem que ser igual\"\u001b[0m\u001b[1;33m\u001b[0m\u001b[0m\n\u001b[0m\u001b[0;32m     12\u001b[0m \u001b[1;31m# Criamos uma lista vazia U, que será o resultado, o vetor U.\u001b[0m\u001b[1;33m\u001b[0m\u001b[1;33m\u001b[0m\u001b[0m\n\u001b[0;32m     13\u001b[0m     \u001b[0mU\u001b[0m \u001b[1;33m=\u001b[0m \u001b[1;33m[\u001b[0m\u001b[1;33m]\u001b[0m\u001b[1;33m\u001b[0m\u001b[0m\n",
      "\u001b[1;31mAssertionError\u001b[0m: O número de colunas da matriz a e do vetor V tem que ser igual"
     ]
    }
   ],
   "source": [
    "vmult([[10, 20], [3, 4], [98, 0], [5, 8], [-1, 2]], [-1, 0, 0.5, 1, 10])"
   ]
  },
  {
   "cell_type": "markdown",
   "metadata": {},
   "source": [
    "## Tarefa Bônus\n",
    "\n",
    "Crie a função:\n",
    "\n",
    "* `mtrans`: recebe uma matriz como entrada e retorna a transposta de dessa matriz. A transposta é a matriz com suas linhas transformadas em colunas.\n",
    "\n",
    "A função deve ter uma docstring, `assert`s para verificar a entrada e testes para verificar se o resultado é o esperado."
   ]
  },
  {
   "cell_type": "code",
   "execution_count": null,
   "metadata": {
    "collapsed": true
   },
   "outputs": [],
   "source": []
  },
  {
   "cell_type": "code",
   "execution_count": null,
   "metadata": {
    "collapsed": true
   },
   "outputs": [],
   "source": []
  },
  {
   "cell_type": "code",
   "execution_count": null,
   "metadata": {
    "collapsed": true
   },
   "outputs": [],
   "source": []
  },
  {
   "cell_type": "code",
   "execution_count": null,
   "metadata": {
    "collapsed": true
   },
   "outputs": [],
   "source": []
  }
 ],
 "metadata": {
  "kernelspec": {
   "display_name": "Python 3",
   "language": "python",
   "name": "python3"
  },
  "language_info": {
   "codemirror_mode": {
    "name": "ipython",
    "version": 3
   },
   "file_extension": ".py",
   "mimetype": "text/x-python",
   "name": "python",
   "nbconvert_exporter": "python",
   "pygments_lexer": "ipython3",
   "version": "3.4.3"
  }
 },
 "nbformat": 4,
 "nbformat_minor": 0
}
